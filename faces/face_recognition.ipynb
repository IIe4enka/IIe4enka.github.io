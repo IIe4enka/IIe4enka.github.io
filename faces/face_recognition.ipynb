{
 "cells": [
  {
   "cell_type": "code",
   "execution_count": 1,
   "metadata": {},
   "outputs": [],
   "source": [
    "import cv2"
   ]
  },
  {
   "cell_type": "code",
   "execution_count": 2,
   "metadata": {},
   "outputs": [],
   "source": [
    "img = cv2.imread('face_test.jpg')"
   ]
  },
  {
   "cell_type": "code",
   "execution_count": 3,
   "metadata": {},
   "outputs": [],
   "source": [
    "#cv2.imshow(winname='Face', mat=img)\n",
    "gray = cv2.cvtColor(src=img, code=cv2.COLOR_BGR2GRAY)"
   ]
  },
  {
   "cell_type": "code",
   "execution_count": 12,
   "metadata": {},
   "outputs": [],
   "source": [
    "faces = cv2.CascadeClassifier(r'haarcascade_frontalcatface.xml')\n",
    "faces = faces.detectMultiScale(gray, 1.3, 5)"
   ]
  },
  {
   "cell_type": "code",
   "execution_count": 20,
   "metadata": {},
   "outputs": [],
   "source": [
    "faces = faces.tolist()"
   ]
  },
  {
   "cell_type": "code",
   "execution_count": 23,
   "metadata": {},
   "outputs": [
    {
     "ename": "SyntaxError",
     "evalue": "positional argument follows keyword argument (2591872576.py, line 7)",
     "output_type": "error",
     "traceback": [
      "\u001b[1;36m  Cell \u001b[1;32mIn [23], line 7\u001b[1;36m\u001b[0m\n\u001b[1;33m    cv2.rectangle(img=img, (x-w/2),(y-h/2) , color=(0, 255, 0), thickness=4)\u001b[0m\n\u001b[1;37m                                                                           ^\u001b[0m\n\u001b[1;31mSyntaxError\u001b[0m\u001b[1;31m:\u001b[0m positional argument follows keyword argument\n"
     ]
    }
   ],
   "source": [
    "for face in faces:\n",
    "    x = face[0] # left point\n",
    "    y = face[1] # top point\n",
    "    w = face[2] # right point\n",
    "    h = face[3] # bottom point\n",
    "\n",
    "    cv2.rectangle(img=img, (x-w/2),(y-h/2) , color=(0, 255, 0), thickness=4)\n",
    "\n",
    "cv2.imshow(winname=\"Face\", mat=img)\n",
    "cv2.waitKey(delay=0)\n",
    "cv2.destroyAllWindows()\n"
   ]
  }
 ],
 "metadata": {
  "kernelspec": {
   "display_name": "Python 3.9.7 64-bit",
   "language": "python",
   "name": "python3"
  },
  "language_info": {
   "codemirror_mode": {
    "name": "ipython",
    "version": 3
   },
   "file_extension": ".py",
   "mimetype": "text/x-python",
   "name": "python",
   "nbconvert_exporter": "python",
   "pygments_lexer": "ipython3",
   "version": "3.9.7"
  },
  "orig_nbformat": 4,
  "vscode": {
   "interpreter": {
    "hash": "d63590a9900ff46f20c7562a2cea8688cb4f98652d4a314c20bd78efcd27ece1"
   }
  }
 },
 "nbformat": 4,
 "nbformat_minor": 2
}
